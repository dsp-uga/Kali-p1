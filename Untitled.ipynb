{
 "cells": [
  {
   "cell_type": "code",
   "execution_count": 95,
   "metadata": {},
   "outputs": [
    {
     "data": {
      "text/plain": [
       "[u'00401000 50 8D 12 2B C9 49 81 E1 5C 5D 63 00 BF 63 19 E3',\n",
       " u'00401010 7B 68 AC 06 00 00 58 33 DB FF 34 19 FF 04 24 31',\n",
       " u'00401020 3C 24 8F 04 5A FF 31 5F 83 C1 04 83 C2 04 83 E8',\n",
       " u'00401030 04 83 F8 00 75 E1 B8 00 00 00 00 50 B8 38 70 63',\n",
       " u'00401040 00 FF 10 83 C4 2C 5D C3 8B FF 55 8B EC 83 EC 44',\n",
       " u'00401050 BB E0 81 63 00 83 6D C8 38 BE 00 00 00 00 56 B8',\n",
       " u'00401060 34 70 63 00 FF 10 53 56 57 FF B3 F8 01 00 00 E8',\n",
       " u'00401070 A4 F4 FF FF 83 C4 0C 5B BE 00 00 00 00 56 B8 40',\n",
       " u'00401080 70 63 00 FF 10 83 C4 44 5D C3 00 00 00 00 00 00']"
      ]
     },
     "execution_count": 95,
     "metadata": {},
     "output_type": "execute_result"
    }
   ],
   "source": [
    "from operator import add\n",
    "import json\n",
    "import sys\n",
    "from math import log\n",
    "import numpy as np\n",
    "from pyspark import SparkContext\n",
    "from pyspark.ml.classification import NaiveBayes\n",
    "from pyspark.ml.feature import HashingTF, IDF, Tokenizer\n",
    "from operator import add\n",
    "import re\n",
    "sc = SparkContext.getOrCreate()\n",
    "data = sc.textFile(\"/home/rutu/DSP/a7Niv6pD5WPycnQK1TZ8.bytes\")\n",
    "data.take(9)"
   ]
  },
  {
   "cell_type": "code",
   "execution_count": 96,
   "metadata": {},
   "outputs": [
    {
     "data": {
      "text/plain": [
       "[[u'00401000',\n",
       "  u'50',\n",
       "  u'8D',\n",
       "  u'12',\n",
       "  u'2B',\n",
       "  u'C9',\n",
       "  u'49',\n",
       "  u'81',\n",
       "  u'E1',\n",
       "  u'5C',\n",
       "  u'5D',\n",
       "  u'63',\n",
       "  u'00',\n",
       "  u'BF',\n",
       "  u'63',\n",
       "  u'19',\n",
       "  u'E3'],\n",
       " [u'00401010',\n",
       "  u'7B',\n",
       "  u'68',\n",
       "  u'AC',\n",
       "  u'06',\n",
       "  u'00',\n",
       "  u'00',\n",
       "  u'58',\n",
       "  u'33',\n",
       "  u'DB',\n",
       "  u'FF',\n",
       "  u'34',\n",
       "  u'19',\n",
       "  u'FF',\n",
       "  u'04',\n",
       "  u'24',\n",
       "  u'31'],\n",
       " [u'00401020',\n",
       "  u'3C',\n",
       "  u'24',\n",
       "  u'8F',\n",
       "  u'04',\n",
       "  u'5A',\n",
       "  u'FF',\n",
       "  u'31',\n",
       "  u'5F',\n",
       "  u'83',\n",
       "  u'C1',\n",
       "  u'04',\n",
       "  u'83',\n",
       "  u'C2',\n",
       "  u'04',\n",
       "  u'83',\n",
       "  u'E8'],\n",
       " [u'00401030',\n",
       "  u'04',\n",
       "  u'83',\n",
       "  u'F8',\n",
       "  u'00',\n",
       "  u'75',\n",
       "  u'E1',\n",
       "  u'B8',\n",
       "  u'00',\n",
       "  u'00',\n",
       "  u'00',\n",
       "  u'00',\n",
       "  u'50',\n",
       "  u'B8',\n",
       "  u'38',\n",
       "  u'70',\n",
       "  u'63'],\n",
       " [u'00401040',\n",
       "  u'00',\n",
       "  u'FF',\n",
       "  u'10',\n",
       "  u'83',\n",
       "  u'C4',\n",
       "  u'2C',\n",
       "  u'5D',\n",
       "  u'C3',\n",
       "  u'8B',\n",
       "  u'FF',\n",
       "  u'55',\n",
       "  u'8B',\n",
       "  u'EC',\n",
       "  u'83',\n",
       "  u'EC',\n",
       "  u'44'],\n",
       " [u'00401050',\n",
       "  u'BB',\n",
       "  u'E0',\n",
       "  u'81',\n",
       "  u'63',\n",
       "  u'00',\n",
       "  u'83',\n",
       "  u'6D',\n",
       "  u'C8',\n",
       "  u'38',\n",
       "  u'BE',\n",
       "  u'00',\n",
       "  u'00',\n",
       "  u'00',\n",
       "  u'00',\n",
       "  u'56',\n",
       "  u'B8'],\n",
       " [u'00401060',\n",
       "  u'34',\n",
       "  u'70',\n",
       "  u'63',\n",
       "  u'00',\n",
       "  u'FF',\n",
       "  u'10',\n",
       "  u'53',\n",
       "  u'56',\n",
       "  u'57',\n",
       "  u'FF',\n",
       "  u'B3',\n",
       "  u'F8',\n",
       "  u'01',\n",
       "  u'00',\n",
       "  u'00',\n",
       "  u'E8'],\n",
       " [u'00401070',\n",
       "  u'A4',\n",
       "  u'F4',\n",
       "  u'FF',\n",
       "  u'FF',\n",
       "  u'83',\n",
       "  u'C4',\n",
       "  u'0C',\n",
       "  u'5B',\n",
       "  u'BE',\n",
       "  u'00',\n",
       "  u'00',\n",
       "  u'00',\n",
       "  u'00',\n",
       "  u'56',\n",
       "  u'B8',\n",
       "  u'40'],\n",
       " [u'00401080',\n",
       "  u'70',\n",
       "  u'63',\n",
       "  u'00',\n",
       "  u'FF',\n",
       "  u'10',\n",
       "  u'83',\n",
       "  u'C4',\n",
       "  u'44',\n",
       "  u'5D',\n",
       "  u'C3',\n",
       "  u'00',\n",
       "  u'00',\n",
       "  u'00',\n",
       "  u'00',\n",
       "  u'00',\n",
       "  u'00']]"
      ]
     },
     "execution_count": 96,
     "metadata": {},
     "output_type": "execute_result"
    }
   ],
   "source": [
    "def split(lines):\n",
    "    lines=lines.split()\n",
    "    return(lines)\n",
    "data = data.map(split)\n",
    "data.take(9)\n"
   ]
  },
  {
   "cell_type": "code",
   "execution_count": 97,
   "metadata": {},
   "outputs": [
    {
     "data": {
      "text/plain": [
       "'00P00y00t00h00o00n00R00D00D00[00100100100]00 00a00t00 00R00D00D00 00a00t00 00P00y00t00h00o00n00R00D00D00.00s00c00a00l00a00:00500300'"
      ]
     },
     "execution_count": 97,
     "metadata": {},
     "output_type": "execute_result"
    }
   ],
   "source": [
    "\n",
    "data = data.filter(lambda x : len(x[1]) == 2 )\n",
    "data = data.map(lambda x: x[1])\n",
    "data=re.sub('\\??','00',str(data))\n",
    "sc.parallelize([data]).collect()\n",
    "data"
   ]
  },
  {
   "cell_type": "code",
   "execution_count": 98,
   "metadata": {},
   "outputs": [
    {
     "ename": "AttributeError",
     "evalue": "'str' object has no attribute 'take'",
     "output_type": "error",
     "traceback": [
      "\u001b[0;31m---------------------------------------------------------------------------\u001b[0m",
      "\u001b[0;31mAttributeError\u001b[0m                            Traceback (most recent call last)",
      "\u001b[0;32m<ipython-input-98-9f218ce24d6f>\u001b[0m in \u001b[0;36m<module>\u001b[0;34m()\u001b[0m\n\u001b[1;32m      5\u001b[0m \u001b[0;34m\u001b[0m\u001b[0m\n\u001b[1;32m      6\u001b[0m \u001b[0;34m\u001b[0m\u001b[0m\n\u001b[0;32m----> 7\u001b[0;31m \u001b[0mdata\u001b[0m\u001b[0;34m.\u001b[0m\u001b[0mtake\u001b[0m\u001b[0;34m(\u001b[0m\u001b[0;36m9\u001b[0m\u001b[0;34m)\u001b[0m\u001b[0;34m\u001b[0m\u001b[0m\n\u001b[0m\u001b[1;32m      8\u001b[0m \u001b[0;31m#data=re.sub('\\??','00',str(data))\u001b[0m\u001b[0;34m\u001b[0m\u001b[0;34m\u001b[0m\u001b[0m\n\u001b[1;32m      9\u001b[0m \u001b[0;31m#sc.parallelize([data]).collect\u001b[0m\u001b[0;34m\u001b[0m\u001b[0;34m\u001b[0m\u001b[0m\n",
      "\u001b[0;31mAttributeError\u001b[0m: 'str' object has no attribute 'take'"
     ]
    }
   ],
   "source": [
    "\n",
    "#def replace(rdd):\n",
    " #   rdd=re.sub('??','00',str(rdd))\n",
    "  #  return rdd\n",
    "\n",
    "\n",
    "data.take(9)\n",
    "#data=re.sub('\\??','00',str(data))\n",
    "#sc.parallelize([data]).collect\n",
    "#data.take(9)"
   ]
  },
  {
   "cell_type": "code",
   "execution_count": 99,
   "metadata": {},
   "outputs": [
    {
     "ename": "AttributeError",
     "evalue": "'str' object has no attribute 'map'",
     "output_type": "error",
     "traceback": [
      "\u001b[0;31m---------------------------------------------------------------------------\u001b[0m",
      "\u001b[0;31mAttributeError\u001b[0m                            Traceback (most recent call last)",
      "\u001b[0;32m<ipython-input-99-e08280236b18>\u001b[0m in \u001b[0;36m<module>\u001b[0;34m()\u001b[0m\n\u001b[1;32m      1\u001b[0m \u001b[0;32mimport\u001b[0m \u001b[0mstruct\u001b[0m\u001b[0;34m\u001b[0m\u001b[0m\n\u001b[0;32m----> 2\u001b[0;31m \u001b[0mpixels\u001b[0m\u001b[0;34m=\u001b[0m\u001b[0mdata\u001b[0m\u001b[0;34m.\u001b[0m\u001b[0mmap\u001b[0m\u001b[0;34m(\u001b[0m\u001b[0;32mlambda\u001b[0m \u001b[0mx\u001b[0m\u001b[0;34m:\u001b[0m \u001b[0mint\u001b[0m\u001b[0;34m(\u001b[0m\u001b[0mx\u001b[0m\u001b[0;34m[\u001b[0m\u001b[0;36m1\u001b[0m\u001b[0;34m]\u001b[0m\u001b[0;34m,\u001b[0m\u001b[0;36m16\u001b[0m\u001b[0;34m)\u001b[0m\u001b[0;34m)\u001b[0m\u001b[0;34m.\u001b[0m\u001b[0mtake\u001b[0m\u001b[0;34m(\u001b[0m\u001b[0;36m9\u001b[0m\u001b[0;34m)\u001b[0m\u001b[0;31m#w = struct.unpack(\"h\", x[1])[0])\u001b[0m\u001b[0;34m\u001b[0m\u001b[0m\n\u001b[0m\u001b[1;32m      3\u001b[0m \u001b[0mpixels\u001b[0m\u001b[0;34m=\u001b[0m\u001b[0mnp\u001b[0m\u001b[0;34m.\u001b[0m\u001b[0marray\u001b[0m\u001b[0;34m(\u001b[0m\u001b[0mpixels\u001b[0m\u001b[0;34m)\u001b[0m\u001b[0;34m\u001b[0m\u001b[0m\n\u001b[1;32m      4\u001b[0m \u001b[0mpixels\u001b[0m\u001b[0;34m\u001b[0m\u001b[0m\n",
      "\u001b[0;31mAttributeError\u001b[0m: 'str' object has no attribute 'map'"
     ]
    }
   ],
   "source": [
    "import struct\n",
    "pixels=data.map(lambda x: int(x[1],16)).take(9)#w = struct.unpack(\"h\", x[1])[0])\n",
    "pixels=np.array(pixels)\n",
    "pixels"
   ]
  },
  {
   "cell_type": "code",
   "execution_count": null,
   "metadata": {},
   "outputs": [],
   "source": []
  }
 ],
 "metadata": {
  "kernelspec": {
   "display_name": "Python 2",
   "language": "python",
   "name": "python2"
  },
  "language_info": {
   "codemirror_mode": {
    "name": "ipython",
    "version": 2
   },
   "file_extension": ".py",
   "mimetype": "text/x-python",
   "name": "python",
   "nbconvert_exporter": "python",
   "pygments_lexer": "ipython2",
   "version": "2.7.15"
  }
 },
 "nbformat": 4,
 "nbformat_minor": 2
}
