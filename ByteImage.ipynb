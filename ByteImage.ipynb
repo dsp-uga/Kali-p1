{
 "cells": [
  {
   "cell_type": "code",
   "execution_count": 9,
   "metadata": {
    "scrolled": true
   },
   "outputs": [],
   "source": [
    "def readimage(path):\n",
    "    with open(path, \"rb\") as f:\n",
    "        return bytearray(f.read())\n",
    "\n",
    "def main():\n",
    "    bytes = readimage(\"/home/rutu/DSP/1KjZ4An78sOytkzgRL0E.bytes\")\n",
    "    RGBbytes = ''.join([ bytes[i+2:i+3] + bytes[i+1:i+2] + bytes[i:i+1]\n",
    "                       for i in range(0, len(bytes) -1, 4)])\n",
    "    image = Image.fromstring('RGB', (640,480), RGBbytes)\n",
    "    image.save(\"test.png\")\n"
   ]
  },
  {
   "cell_type": "code",
   "execution_count": 19,
   "metadata": {},
   "outputs": [
    {
     "ename": "ImportError",
     "evalue": "No module named py4j.protocol",
     "output_type": "error",
     "traceback": [
      "\u001b[0;31m---------------------------------------------------------------------------\u001b[0m",
      "\u001b[0;31mImportError\u001b[0m                               Traceback (most recent call last)",
      "\u001b[0;32m<ipython-input-19-fa5d7f8a9e14>\u001b[0m in \u001b[0;36m<module>\u001b[0;34m()\u001b[0m\n\u001b[1;32m      1\u001b[0m \u001b[0;32mimport\u001b[0m \u001b[0msys\u001b[0m\u001b[0;34m\u001b[0m\u001b[0m\n\u001b[1;32m      2\u001b[0m \u001b[0;32mfrom\u001b[0m \u001b[0mmath\u001b[0m \u001b[0;32mimport\u001b[0m \u001b[0mlog\u001b[0m\u001b[0;34m\u001b[0m\u001b[0m\n\u001b[0;32m----> 3\u001b[0;31m \u001b[0;32mfrom\u001b[0m \u001b[0mpyspark\u001b[0m \u001b[0;32mimport\u001b[0m \u001b[0mSparkContext\u001b[0m\u001b[0;34m\u001b[0m\u001b[0m\n\u001b[0m\u001b[1;32m      4\u001b[0m \u001b[0;32mfrom\u001b[0m \u001b[0mpyspark\u001b[0m\u001b[0;34m.\u001b[0m\u001b[0mml\u001b[0m\u001b[0;34m.\u001b[0m\u001b[0mclassification\u001b[0m \u001b[0;32mimport\u001b[0m \u001b[0mNaiveBayes\u001b[0m\u001b[0;34m\u001b[0m\u001b[0m\n\u001b[1;32m      5\u001b[0m \u001b[0;32mfrom\u001b[0m \u001b[0mpyspark\u001b[0m\u001b[0;34m.\u001b[0m\u001b[0mml\u001b[0m\u001b[0;34m.\u001b[0m\u001b[0mfeature\u001b[0m \u001b[0;32mimport\u001b[0m \u001b[0mHashingTF\u001b[0m\u001b[0;34m,\u001b[0m \u001b[0mIDF\u001b[0m\u001b[0;34m,\u001b[0m \u001b[0mTokenizer\u001b[0m\u001b[0;34m\u001b[0m\u001b[0m\n",
      "\u001b[0;32m/usr/lib/spark/python/pyspark/__init__.py\u001b[0m in \u001b[0;36m<module>\u001b[0;34m()\u001b[0m\n\u001b[1;32m     49\u001b[0m \u001b[0;34m\u001b[0m\u001b[0m\n\u001b[1;32m     50\u001b[0m \u001b[0;32mfrom\u001b[0m \u001b[0mpyspark\u001b[0m\u001b[0;34m.\u001b[0m\u001b[0mconf\u001b[0m \u001b[0;32mimport\u001b[0m \u001b[0mSparkConf\u001b[0m\u001b[0;34m\u001b[0m\u001b[0m\n\u001b[0;32m---> 51\u001b[0;31m \u001b[0;32mfrom\u001b[0m \u001b[0mpyspark\u001b[0m\u001b[0;34m.\u001b[0m\u001b[0mcontext\u001b[0m \u001b[0;32mimport\u001b[0m \u001b[0mSparkContext\u001b[0m\u001b[0;34m\u001b[0m\u001b[0m\n\u001b[0m\u001b[1;32m     52\u001b[0m \u001b[0;32mfrom\u001b[0m \u001b[0mpyspark\u001b[0m\u001b[0;34m.\u001b[0m\u001b[0mrdd\u001b[0m \u001b[0;32mimport\u001b[0m \u001b[0mRDD\u001b[0m\u001b[0;34m,\u001b[0m \u001b[0mRDDBarrier\u001b[0m\u001b[0;34m\u001b[0m\u001b[0m\n\u001b[1;32m     53\u001b[0m \u001b[0;32mfrom\u001b[0m \u001b[0mpyspark\u001b[0m\u001b[0;34m.\u001b[0m\u001b[0mfiles\u001b[0m \u001b[0;32mimport\u001b[0m \u001b[0mSparkFiles\u001b[0m\u001b[0;34m\u001b[0m\u001b[0m\n",
      "\u001b[0;32m/usr/lib/spark/python/pyspark/context.py\u001b[0m in \u001b[0;36m<module>\u001b[0;34m()\u001b[0m\n\u001b[1;32m     27\u001b[0m \u001b[0;32mfrom\u001b[0m \u001b[0mtempfile\u001b[0m \u001b[0;32mimport\u001b[0m \u001b[0mNamedTemporaryFile\u001b[0m\u001b[0;34m\u001b[0m\u001b[0m\n\u001b[1;32m     28\u001b[0m \u001b[0;34m\u001b[0m\u001b[0m\n\u001b[0;32m---> 29\u001b[0;31m \u001b[0;32mfrom\u001b[0m \u001b[0mpy4j\u001b[0m\u001b[0;34m.\u001b[0m\u001b[0mprotocol\u001b[0m \u001b[0;32mimport\u001b[0m \u001b[0mPy4JError\u001b[0m\u001b[0;34m\u001b[0m\u001b[0m\n\u001b[0m\u001b[1;32m     30\u001b[0m \u001b[0;34m\u001b[0m\u001b[0m\n\u001b[1;32m     31\u001b[0m \u001b[0;32mfrom\u001b[0m \u001b[0mpyspark\u001b[0m \u001b[0;32mimport\u001b[0m \u001b[0maccumulators\u001b[0m\u001b[0;34m\u001b[0m\u001b[0m\n",
      "\u001b[0;31mImportError\u001b[0m: No module named py4j.protocol"
     ]
    }
   ],
   "source": [
    "import sys\n",
    "from math import log\n",
    "from pyspark import SparkContext\n",
    "from pyspark.ml.classification import NaiveBayes\n",
    "from pyspark.ml.feature import HashingTF, IDF, Tokenizer\n",
    "from operator import add\n",
    "sc = SparkContext.getOrCreate()\n",
    "data = sc.textFile(\"/home/rutu/DSP/1KjZ4An78sOytkzgRL0E.bytes\")\n",
    "    #y_train = sc.textFile(sys.argv[2])\n",
    "\n",
    "    # read directory of byte files\n",
    "    #byte_data_directory = sys.argv[3]\n",
    "\n",
    "    # form full filename from directory and names and loas into list\n",
    "#X_filenames = X_train.map(lambda x: byte_data_directory+x+'.bytes')\n",
    "#X_filenames = X_filenames.collect()\n",
    "data = dat_rdd.flatMapValues(lambda x : x.split())\n",
    "data = data.filter(lambda x : len(x[1]) == 2 )\n"
   ]
  },
  {
   "cell_type": "code",
   "execution_count": null,
   "metadata": {},
   "outputs": [],
   "source": []
  },
  {
   "cell_type": "code",
   "execution_count": null,
   "metadata": {},
   "outputs": [],
   "source": []
  },
  {
   "cell_type": "code",
   "execution_count": null,
   "metadata": {},
   "outputs": [],
   "source": []
  },
  {
   "cell_type": "code",
   "execution_count": 15,
   "metadata": {},
   "outputs": [
    {
     "data": {
      "text/plain": [
       "56"
      ]
     },
     "execution_count": 15,
     "metadata": {},
     "output_type": "execute_result"
    }
   ],
   "source": [
    "s = \"38\"\n",
    "\n",
    "i = int(s, 16)\n",
    "i"
   ]
  },
  {
   "cell_type": "code",
   "execution_count": 17,
   "metadata": {},
   "outputs": [
    {
     "name": "stdout",
     "output_type": "stream",
     "text": [
      "['00401000 C4 9B F0 75 A5 45 59 6B 4A C1 02 FB 52 A2 AD 3F\\r\\n', '00401010 93 F4 56 9E 30 D3 B3 2F E8 30 0E 36 BB 5A CB 09\\r\\n', '00401020 86 45 55 C7 D5 97 46 B5 7F 33 51 F3 B5 05 6B FA\\r\\n', '00401030 25 91 DA 66 AB 71 24 2E 6E 69 19 A6 88 C3 93 93\\r\\n', '00401040 95 35 57 08 6D C2 7D F7 93 9D 2B D5 3E 58 33 2C\\r\\n', '00401050 19 42 1F 38 EC 42 8E ED 0B BD BA B1 F6 EA 56 45\\r\\n', '00401060 49 C1 3F 38 6D C2 53 08 03 5B AF B3 71 42 57 3B\\r\\n', '00401070 F6 0D 00 F6 6C 42 57 6B 95 D8 55 08 6D B9 11 9C\\r\\n', '00401080 8F 0D AF 4A 71 42 57 99 A3 68 D2 D3 50 70 AF 05\\r\\n', '00401090 71 42 57 B0 17 3E 57 08 F6 0A 2D 08 17 42 BA 12\\r\\n', '004010A0 21 6F BA 32 3D 72 CE C3 17 42 27 99 00 6A 21 31\\r\\n', '004010B0 8A 6D 83 40 22 07 24 00 95 4A 56 08 6D 70 CE 4A\\r\\n', '004010C0 25 B5 7B D7 9B 19 0A 8E 62 D6 CF 31 8A BA 52 A6\\r\\n', '004010D0 80 68 CE 41 49 B5 53 02 13 0F 17 F2 6C 62 44 F2\\r\\n', '004010E0 43 6A 83 14 5C BB 1F D4 16 3E 2F 08 3D 42 57 99\\r\\n', '004010F0 FD 71 26 99 20 32 CE 1A 29 72 23 2E 71 6F 26 99\\r\\n', '00401100 20 36 23 2E 6F 6F 26 32 F6 F7 CE 9C 7E DE 19 99\\r\\n', '00401110 20 36 1F 8D BB 43 10 DC F7 89 5F 8D 22 62 4A 51\\r\\n', '00401120 2C 2E 56 A0 7A CF 10 02 0D BB 12 F4 EF 02 43 47\\r\\n', '00401130 F6 7F 4F 83 AD 8E 7D B0 F1 43 57 08 F6 FA CE 40\\r\\n', '00401140 51 1A 2A 06 6D 42 56 11 61 07 42 F8 F5 87 4B 05\\r\\n', '00401150 86 6B 27 8D A1 74 27 37 22 71 25 2E 71 71 22 99\\r\\n', '00401160 20 36 20 D5 AC 6F C6 6D 2A BB 8E 94 D1 07 24 0C\\r\\n', '00401170 25 A1 D6 C0 55 24 08 B0 70 41 57 08 95 8B 57 08\\r\\n', '00401180 6D 6A 2F 08 2D 42 57 99 00 6A 21 8D 86 BB C7 AF\\r\\n', '00401190 6C 43 57 08 11 07 84 D8 6C 42 57 40 F6 82 4B 8D\\r\\n', '004011A0 2D 36 80 40 65 8E 53 8D 6D 1B C2 8C 79 5E 56 4F\\r\\n', '004011B0 49 BB 48 F0 6D 0F D0 1F 65 B9 47 FC 12 0F 18 F2\\r\\n', '004011C0 6C 62 44 0C 11 E1 5F 08 6D 42 CE 47 3D B9 3F 10\\r\\n', '004011D0 8A 6D 63 3B B4 B9 43 E4 68 A1 27 B0 0E 43 57 08\\r\\n', '004011E0 25 C1 3F 50 6D 44 57 08 00 37 CE 03 51 FF 53 E4\\r\\n', '004011F0 6C 42 57 08 8A 8E 73 04 1D 53 97 C4 0D BB C6 04\\r\\n', '00401200 03 46 CE 51 ED 42 57 08 F0 10 43 15 6E 13 CE 19\\r\\n', '00401210 79 BD BA 13 17 43 BE 30 8A 6D 53 83 AD 8D 53 31\\r\\n', '00401220 8A 6D 57 38 23 BB 41 F8 6D 13 CE 99 D8 BD 97 12\\r\\n', '00401230 86 5B C2 8C BB 68 28 38 21 9C 53 37 22 07 24 0C\\r\\n', '00401240 23 BB 51 83 AD 8D 56 8D 33 32 CC D3 6D 6F EC 82\\r\\n', '00401250 AD 8E 5E 6F 6D 42 57 88 00 3E CC 43 6E 44 74 99\\r\\n', '00401260 8A 07 3A 38 8A 8E 73 F4 89 6D 4F 6D 96 22 1A 3A\\r\\n', '00401270 25 69 23 38 1C 6F BA 32 79 6A D6 C1 61 1B CA 26\\r\\n', '00401280 AE A2 CE B4 F6 14 56 12 49 5B 21 D4 EF F4 4A 84\\r\\n', '00401290 E0 42 57 08 F6 B8 F3 07 6D 42 CE 51 CD 42 57 08\\r\\n', '004012A0 F0 10 4A 84 EC 42 57 08 6E 13 EC 8C 85 43 BE 37\\r\\n', '004012B0 F6 FE 27 37 1F 72 2D 04 15 42 67 08 6D 6F D6 AF\\r\\n', '004012C0 71 72 2D 04 15 42 67 08 6D 6F D8 03 51 42 67 08\\r\\n', '004012D0 6D 07 24 0C 8A 6D 4B 3E 24 D5 6E D0 1C BB 8F B6\\r\\n', '004012E0 94 C3 B0 03 3E 02 31 6B 13 D9 57 D8 00 3A 74 99\\r\\n', '004012F0 7A 42 57 07 61 3F B5 A9 24 B5 13 E4 70 71 25 38\\r\\n', '00401300 8A 52 2F 08 5D 42 57 31 EE 1A 53 38 8A 52 2F 08\\r\\n', '00401310 5D 42 57 31 EC 3E 73 08 5D 42 57 99 20 36 BA 32\\r\\n', '00401320 79 6C 20 40 25 BD 90 12 EC A1 96 27 96 3F EC A5\\r\\n', '00401330 88 B5 83 05 AE BB AF 8C 7E C9 67 08 6D 42 AF AC\\r\\n', '00401340 8A 07 BA 5E 6A 42 57 08 95 21 BA 98 8A 70 00 01\\r\\n', '00401350 6D 42 57 B0 A3 07 BA 98 F6 F2 CE D3 50 C9 50 08\\r\\n', '00401360 6D 42 AF C0 8A 07 BA 8C 8B BB 8D AF CB 07 BA 98\\r\\n', '00401370 3E 02 27 C7 B5 3F 98 03 51 35 58 04 51 D6 D3 C7\\r\\n', '00401380 00 11 1F 8D 82 4B 94 13 6E 7C 44 BB F6 4E 73 5F\\r\\n', '00401390 77 42 57 08 95 AD BA 98 8A 37 02 0C 23 68 28 5F\\r\\n', '004013A0 75 42 57 08 95 BD BA 98 8A 69 AF 18 8A 07 BA 8E\\r\\n', '004013B0 01 5E 5B 27 AE 71 98 AF 68 C9 77 08 6D 42 0F 14\\r\\n', '004013C0 3D C9 55 08 6D 42 0F 14 55 C9 77 08 6D 42 0F 14\\r\\n', '004013D0 4D C9 53 08 6D 42 0F 14 65 C9 17 08 6D 42 0F 14\\r\\n', '004013E0 5D C9 53 08 6D 42 0F 14 75 C9 17 08 6D 42 0F 14\\r\\n', '004013F0 6D BB 98 3E AE A2 D8 AB 71 41 57 08 F6 06 2F 04\\r\\n', '00401400 6C 42 57 31 8A 6D 13 C1 71 4A 1B EE 6C 42 D8 AB\\r\\n', '00401410 2D 41 57 08 21 6F BA 32 69 BB 9F D4 89 6E 26 99\\r\\n', '00401420 20 62 12 83 AD 8D C1 86 8A F4 57 08 6D 8F 55 99\\r\\n', '00401430 8A BB 24 28 EC 14 73 5B 0F 5D CE 4A 25 BB B9 84\\r\\n', '00401440 08 7A 57 14 6E 41 44 50 F6 7D 27 83 AD 8E 64 8F\\r\\n', '00401450 33 46 25 5E 71 42 57 08 95 A3 57 08 6D 6C 56 98\\r\\n', '00401460 6E 0A 6E D0 46 8D 0F 13 78 43 44 4C 6E 85 0B ED\\r\\n', '00401470 37 76 D4 CE 01 33 EC 82 AD 8E 4F DD AE 8E 53 38\\r\\n', '00401480 3E 04 1D 6D EE 19 56 A6 A6 73 BA 32 51 C1 93 43\\r\\n', '00401490 6F 42 57 27 AE A0 86 92 13 CC 0C 3E 13 D5 31 D5\\r\\n', '004014A0 9C 8E 4F 87 9B 44 67 08 6D 1B AC 8A 2B 08 CE 11\\r\\n', '004014B0 47 A0 FD 37 30 B5 83 FA 12 D5 31 D5 9C 8D B3 C4\\r\\n', '004014C0 1C 53 90 46 56 04 3F 04 01 44 AE 90 3E 02 56 C6\\r\\n', '004014D0 8F 06 20 C5 0D BB 43 E4 4C 07 24 E0 1C 9C 57 2E\\r\\n', '004014E0 5D 07 24 DC 1C 9C 57 30 4C 3D 57 08 23 C3 91 05\\r\\n', '004014F0 23 72 BA 32 2D 04 57 4B 38 07 24 00 F4 96 73 10\\r\\n', '00401500 0C 03 CE 1A 25 9C 53 30 6D 32 57 08 22 9C 57 99\\r\\n', '00401510 20 32 CE 97 EC 16 53 07 6D 42 CE 9B 15 3E 58 08\\r\\n', '00401520 6D 6F 26 99 20 5A 2D 08 15 C2 57 08 6D 9C 56 2E\\r\\n', '00401530 6D 9C 58 30 6D 42 57 88 22 07 24 EC EB FE 53 07\\r\\n', '00401540 6D 42 96 3F 8A F2 BE B3 CF A1 CD DB 70 75 0C 60\\r\\n', '00401550 DA F6 9C DC E3 C0 77 8C 35 A4 B8 15 A4 2B B7 5B\\r\\n', '00401560 AB 96 E7 4A 42 1D 5C 64 21 C0 65 44 7C 08 97 E4\\r\\n', '00401570 33 A6 9F 2A D8 2F B9 CE D7 BD 11 2C E7 59 4F 85\\r\\n', '00401580 76 DF 1F 24 5A 31 51 C6 E4 72 FA 5B 10 38 57 08\\r\\n', '00401590 6D 42 57 08 6D 42 57 08 6D 42 57 D8 6C 42 57 DE\\r\\n', '004015A0 71 42 57 F8 6C 42 AD 8D 5E CA 00 00 00 00 00 00\\r\\n', '004015B0 00 00 00 00 8B FF 55 51 56 56 E8 79 04 00 00 59\\r\\n', '004015C0 51 E8 A5 06 00 00 59 51 6A 00 E8 6B 06 00 00 59\\r\\n', '004015D0 5D C2 10 00 8B FF 60 6A 24 59 BE FC 1F 40 00 F3\\r\\n', '004015E0 AC AD 0F B6 00 2C 6A 0F 84 FF 03 00 00 C3 00 00\\r\\n', '004015F0 8B FF 55 51 53 50 56 50 E8 4F 01 00 00 59 51 E8\\r\\n', '00401600 83 06 00 00 59 51 6A 00 E8 D2 05 00 00 59 5D C2\\r\\n', '00401610 10 00 00 00 8B FF 55 51 57 56 52 56 E8 47 02 00\\r\\n', '00401620 00 59 51 6A 00 E8 33 06 00 00 59 51 6A 00 E8 D6\\r\\n', '00401630 05 00 00 59 5D C2 0C 00 8B FF 55 51 E8 F2 05 00\\r\\n', '00401640 00 59 51 56 57 E8 32 03 00 00 59 51 6A 00 E8 D2\\r\\n', '00401650 05 00 00 59 5D C2 10 00 8B FF 55 51 6A 00 E8 83\\r\\n', '00401660 05 00 00 59 51 57 52 E8 74 00 00 00 59 51 E8 8F\\r\\n', '00401670 05 00 00 59 5D C2 10 00 8B FF 55 51 6A FE E8 D3\\r\\n', '00401680 05 00 00 59 51 56 53 E8 8C 03 00 00 59 51 E8 F4\\r\\n', '00401690 05 00 00 59 5D C2 10 00 8B FF 55 51 6A 00 E8 BA\\r\\n', '004016A0 05 00 00 59 51 53 50 57 E8 2F 02 00 00 59 51 6A\\r\\n', '004016B0 FE E8 A0 05 00 00 59 5D C2 10 00 00 8B FF 55 51\\r\\n', '004016C0 E8 3D 05 00 00 59 51 53 52 E8 DE 03 00 00 59 51\\r\\n', '004016D0 B9 00 00 00 00 51 E8 2E 05 00 00 59 5D C2 08 00\\r\\n', '004016E0 8B FF 55 51 E8 4A 05 00 00 59 51 57 56 57 57 E8\\r\\n', '004016F0 C0 FE FF FF 59 51 E8 A8 05 00 00 59 5D C2 08 00\\r\\n', '00401700 8B FF 55 51 57 50 52 E8 B8 02 00 00 59 51 E8 EF\\r\\n', '00401710 04 00 00 59 51 E8 6D 05 00 00 59 5D C2 08 00 00\\r\\n', '00401720 8B FF 55 51 50 50 57 56 E8 4B FF FF FF 59 51 BA\\r\\n', '00401730 00 00 00 00 52 E8 AC 04 00 00 59 51 B9 00 00 00\\r\\n', '00401740 00 51 E8 16 05 00 00 59 5D C2 08 00 8B FF 55 51\\r\\n', '00401750 50 56 E8 2D 03 00 00 59 51 6A 00 E8 7F 04 00 00\\r\\n', '00401760 59 51 E8 9B 04 00 00 59 5D C2 10 00 8B FF 55 51\\r\\n', '00401770 6A 00 E8 AE 04 00 00 59 51 53 56 E8 3C FF FF FF\\r\\n', '00401780 59 51 E8 E4 04 00 00 59 5D C2 10 00 8B FF 55 51\\r\\n', '00401790 BF 00 00 00 00 57 E8 44 04 00 00 59 51 50 52 E8\\r\\n', '004017A0 7C FF FF FF 59 51 E8 57 04 00 00 59 5D C2 08 00\\r\\n', '004017B0 8B FF 55 51 8D 79 96 57 E8 92 04 00 00 85 C0 75\\r\\n', '004017C0 F3 59 51 57 53 E8 C2 FF FF FF 59 51 BF 00 00 00\\r\\n', '004017D0 00 57 E8 0F 04 00 00 59 5D C2 10 00 8B FF 55 51\\r\\n', '004017E0 57 53 50 57 E8 CF 00 00 00 59 51 E8 FD 03 00 00\\r\\n', '004017F0 59 51 6A 00 E8 2C 04 00 00 59 5D C2 10 00 00 00\\r\\n', '00401800 8B FF 55 51 56 56 57 E8 08 FE FF FF 59 51 B8 00\\r\\n', '00401810 00 00 00 50 E8 0C 04 00 00 59 51 6A 00 E8 03 04\\r\\n', '00401820 00 00 59 5D C2 0C 00 00 8B FF 55 51 56 50 53 50\\r\\n', '00401830 E8 67 01 00 00 59 51 E8 67 04 00 00 59 51 E8 F0\\r\\n', '00401840 03 00 00 59 5D C2 0C 00 8B FF 55 51 52 52 E8 AD\\r\\n', '00401850 FE FF FF 59 51 6A 00 E8 01 04 00 00 59 51 E8 8A\\r\\n', '00401860 03 00 00 59 5D C2 08 00 8B FF 55 51 56 53 52 56\\r\\n', '00401870 E8 17 03 00 00 59 51 6A FE E8 D8 03 00 00 59 51\\r\\n', '00401880 E8 76 03 00 00 59 5D C2 10 00 00 00 8B FF 55 51\\r\\n', '00401890 56 53 57 E8 90 FF FF FF 59 51 6A 00 E8 68 03 00\\r\\n', '004018A0 00 59 51 8D 49 96 51 E8 A3 03 00 00 85 C0 75 F3\\r\\n', '004018B0 59 5D C2 08 00 00 00 00 8B FF 55 51 52 57 57 52\\r\\n', '004018C0 E8 93 FD FF FF 59 51 E8 BB 03 00 00 59 51 6A 00\\r\\n', '004018D0 E8 88 03 00 00 59 5D C2 10 00 00 00 8B FF 55 51\\r\\n']\n"
     ]
    }
   ],
   "source": [
    "file = open('/home/rutu/DSP/1KjZ4An78sOytkzgRL0E.bytes', 'r') \n",
    "print file.readlines(3) "
   ]
  },
  {
   "cell_type": "code",
   "execution_count": null,
   "metadata": {},
   "outputs": [],
   "source": []
  },
  {
   "cell_type": "code",
   "execution_count": null,
   "metadata": {},
   "outputs": [],
   "source": []
  },
  {
   "cell_type": "code",
   "execution_count": null,
   "metadata": {},
   "outputs": [],
   "source": []
  },
  {
   "cell_type": "code",
   "execution_count": null,
   "metadata": {},
   "outputs": [],
   "source": []
  },
  {
   "cell_type": "code",
   "execution_count": null,
   "metadata": {},
   "outputs": [],
   "source": []
  },
  {
   "cell_type": "code",
   "execution_count": null,
   "metadata": {},
   "outputs": [],
   "source": []
  },
  {
   "cell_type": "code",
   "execution_count": null,
   "metadata": {},
   "outputs": [],
   "source": []
  },
  {
   "cell_type": "code",
   "execution_count": null,
   "metadata": {},
   "outputs": [],
   "source": []
  },
  {
   "cell_type": "code",
   "execution_count": null,
   "metadata": {},
   "outputs": [],
   "source": []
  },
  {
   "cell_type": "code",
   "execution_count": null,
   "metadata": {},
   "outputs": [],
   "source": []
  },
  {
   "cell_type": "code",
   "execution_count": null,
   "metadata": {},
   "outputs": [],
   "source": []
  },
  {
   "cell_type": "code",
   "execution_count": null,
   "metadata": {},
   "outputs": [],
   "source": []
  }
 ],
 "metadata": {
  "kernelspec": {
   "display_name": "Python 2",
   "language": "python",
   "name": "python2"
  },
  "language_info": {
   "codemirror_mode": {
    "name": "ipython",
    "version": 2
   },
   "file_extension": ".py",
   "mimetype": "text/x-python",
   "name": "python",
   "nbconvert_exporter": "python",
   "pygments_lexer": "ipython2",
   "version": "2.7.15"
  }
 },
 "nbformat": 4,
 "nbformat_minor": 2
}
